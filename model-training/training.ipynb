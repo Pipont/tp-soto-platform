{
  "nbformat": 4,
  "nbformat_minor": 0,
  "metadata": {
    "colab": {
      "provenance": []
    },
    "kernelspec": {
      "name": "python3",
      "display_name": "Python 3"
    },
    "language_info": {
      "name": "python"
    }
  },
  "cells": [
    {
      "cell_type": "code",
      "execution_count": 1,
      "metadata": {
        "id": "VKWlIoUJ1NSc"
      },
      "outputs": [],
      "source": [
        "import pandas as pd\n",
        "import numpy as np\n",
        "from sklearn.model_selection import train_test_split\n",
        "from sklearn.preprocessing import StandardScaler\n",
        "from tensorflow.keras.models import Sequential\n",
        "from tensorflow.keras.layers import SimpleRNN, Dense, Dropout\n",
        "from tensorflow.keras.optimizers import Adam\n",
        "from sklearn.metrics import classification_report, accuracy_score"
      ]
    },
    {
      "cell_type": "code",
      "source": [
        "df_modelo = pd.read_csv(\"preprocessing_pisa_data.csv\")"
      ],
      "metadata": {
        "id": "hjKctAIF1XUq"
      },
      "execution_count": 22,
      "outputs": []
    },
    {
      "cell_type": "code",
      "source": [
        "df_modelo.columns"
      ],
      "metadata": {
        "colab": {
          "base_uri": "https://localhost:8080/"
        },
        "id": "Hjb4DFDZ6ahA",
        "outputId": "ee5a3b59-6b24-44f7-b3c5-43077b216466"
      },
      "execution_count": 23,
      "outputs": [
        {
          "output_type": "execute_result",
          "data": {
            "text/plain": [
              "Index(['PV1MATH', 'PV2MATH', 'PV3MATH', 'PV4MATH', 'PV5MATH', 'PV6MATH',\n",
              "       'PV7MATH', 'PV8MATH', 'PV9MATH', 'PV10MATH', 'AGE', 'TFGender',\n",
              "       'REPEAT', 'MISSSC', 'SKIPPING', 'TARDYSD', 'EXERPRAC', 'STUDYHMW',\n",
              "       'WORKPAY', 'WORKHOME', 'ST034Q01TA', 'ST034Q02TA', 'ST034Q03TA',\n",
              "       'ST034Q04TA', 'ST034Q05TA', 'ST034Q06TA', 'ST300Q01JA', 'ST300Q02JA',\n",
              "       'ST300Q03JA', 'ST300Q04JA', 'ST300Q05JA', 'ST300Q06JA', 'ST300Q07JA',\n",
              "       'ST300Q08JA', 'ST300Q09JA', 'ST300Q10JA', 'ST270Q01JA', 'ST270Q02JA',\n",
              "       'ST270Q03JA', 'ST270Q04JA', 'ST038Q03NA', 'ST038Q04NA', 'ST038Q05NA',\n",
              "       'ST038Q06NA', 'ST038Q07NA', 'ST038Q08NA', 'ST250Q01JA', 'ST250Q02JA',\n",
              "       'ST250Q03JA', 'ST250Q04JA', 'ST250Q05JA', 'ST251Q01JA', 'ST251Q02JA',\n",
              "       'ST251Q03JA', 'ST251Q04JA', 'ST255Q01JA', 'MATH_CANTIDAD',\n",
              "       'MATH_CAMBIO_REL', 'MATH_ESPACIO_FORMA', 'MATH_DATOS_INCERT',\n",
              "       'MATH_FORMULACION', 'MATH_PROCEDIMIENTOS', 'MATH_INTERPRETACION',\n",
              "       'MATH_RAZONAMIENTO', 'MATH_PROMEDIO', 'MATH_LOGRO'],\n",
              "      dtype='object')"
            ]
          },
          "metadata": {},
          "execution_count": 23
        }
      ]
    },
    {
      "cell_type": "code",
      "source": [
        "# ===============================\n",
        "# 1. Carga y selección de columnas\n",
        "# ===============================\n",
        "# Ya deberías tener df_modelo preparado con columnas limpias y subcompetencias agregadas\n",
        "\n",
        "# Definir variables input y target\n",
        "X = df_modelo.drop(columns=['MATH_LOGRO'])\n",
        "y = df_modelo['MATH_LOGRO']\n",
        "\n",
        "# ===============================\n",
        "# 2. Escalado de características\n",
        "# ===============================\n",
        "scaler = StandardScaler()\n",
        "X_scaled = scaler.fit_transform(X)\n",
        "\n",
        "# ===============================\n",
        "# 3. Redimensionar para RNN (samples, timesteps, features)\n",
        "# Aquí usamos 1 timestep (puede ser ajustado si lo deseas)\n",
        "# ===============================\n",
        "X_rnn = X_scaled.reshape((X_scaled.shape[0], 1, X_scaled.shape[1]))\n",
        "\n",
        "# ===============================\n",
        "# 4. División de datos\n",
        "# ===============================\n",
        "X_train, X_test, y_train, y_test = train_test_split(X_rnn, y, test_size=0.2, random_state=42)\n",
        "\n",
        "# ===============================\n",
        "# 5. Definición del modelo RNN\n",
        "# ===============================\n",
        "model = Sequential()\n",
        "model.add(SimpleRNN(units=64, input_shape=(X_rnn.shape[1], X_rnn.shape[2]), activation='tanh', return_sequences=False))\n",
        "model.add(Dropout(0.3))\n",
        "model.add(Dense(32, activation='relu'))\n",
        "model.add(Dropout(0.3))\n",
        "model.add(Dense(1, activation='sigmoid'))  # Binaria\n",
        "\n",
        "# ===============================\n",
        "# 6. Compilación y entrenamiento\n",
        "# ===============================\n",
        "model.compile(loss='binary_crossentropy', optimizer=Adam(learning_rate=0.001), metrics=['accuracy'])\n",
        "\n",
        "history = model.fit(\n",
        "    X_train, y_train,\n",
        "    epochs=50,\n",
        "    batch_size=32,\n",
        "    validation_split=0.2,\n",
        "    verbose=1\n",
        ")\n",
        "\n",
        "# ===============================\n",
        "# 7. Evaluación final\n",
        "# ===============================\n",
        "loss, accuracy = model.evaluate(X_test, y_test)\n",
        "print(f\"Pérdida (loss): {loss:.4f}, Precisión (accuracy): {accuracy:.4f}\")"
      ],
      "metadata": {
        "colab": {
          "base_uri": "https://localhost:8080/"
        },
        "id": "Pm7_dvoe10ep",
        "outputId": "3a207a78-2da9-4675-ede7-ff5032e5b384"
      },
      "execution_count": 26,
      "outputs": [
        {
          "output_type": "stream",
          "name": "stderr",
          "text": [
            "/usr/local/lib/python3.11/dist-packages/keras/src/layers/rnn/rnn.py:200: UserWarning: Do not pass an `input_shape`/`input_dim` argument to a layer. When using Sequential models, prefer using an `Input(shape)` object as the first layer in the model instead.\n",
            "  super().__init__(**kwargs)\n"
          ]
        },
        {
          "output_type": "stream",
          "name": "stdout",
          "text": [
            "Epoch 1/50\n",
            "\u001b[1m140/140\u001b[0m \u001b[32m━━━━━━━━━━━━━━━━━━━━\u001b[0m\u001b[37m\u001b[0m \u001b[1m3s\u001b[0m 8ms/step - accuracy: 0.8024 - loss: 0.4097 - val_accuracy: 0.9462 - val_loss: 0.1713\n",
            "Epoch 2/50\n",
            "\u001b[1m140/140\u001b[0m \u001b[32m━━━━━━━━━━━━━━━━━━━━\u001b[0m\u001b[37m\u001b[0m \u001b[1m1s\u001b[0m 6ms/step - accuracy: 0.9448 - loss: 0.1677 - val_accuracy: 0.9614 - val_loss: 0.1071\n",
            "Epoch 3/50\n",
            "\u001b[1m140/140\u001b[0m \u001b[32m━━━━━━━━━━━━━━━━━━━━\u001b[0m\u001b[37m\u001b[0m \u001b[1m1s\u001b[0m 3ms/step - accuracy: 0.9488 - loss: 0.1255 - val_accuracy: 0.9668 - val_loss: 0.0811\n",
            "Epoch 4/50\n",
            "\u001b[1m140/140\u001b[0m \u001b[32m━━━━━━━━━━━━━━━━━━━━\u001b[0m\u001b[37m\u001b[0m \u001b[1m1s\u001b[0m 3ms/step - accuracy: 0.9520 - loss: 0.1100 - val_accuracy: 0.9614 - val_loss: 0.0813\n",
            "Epoch 5/50\n",
            "\u001b[1m140/140\u001b[0m \u001b[32m━━━━━━━━━━━━━━━━━━━━\u001b[0m\u001b[37m\u001b[0m \u001b[1m1s\u001b[0m 4ms/step - accuracy: 0.9551 - loss: 0.0981 - val_accuracy: 0.9695 - val_loss: 0.0693\n",
            "Epoch 6/50\n",
            "\u001b[1m140/140\u001b[0m \u001b[32m━━━━━━━━━━━━━━━━━━━━\u001b[0m\u001b[37m\u001b[0m \u001b[1m1s\u001b[0m 4ms/step - accuracy: 0.9685 - loss: 0.0761 - val_accuracy: 0.9668 - val_loss: 0.0662\n",
            "Epoch 7/50\n",
            "\u001b[1m140/140\u001b[0m \u001b[32m━━━━━━━━━━━━━━━━━━━━\u001b[0m\u001b[37m\u001b[0m \u001b[1m1s\u001b[0m 4ms/step - accuracy: 0.9658 - loss: 0.0757 - val_accuracy: 0.9812 - val_loss: 0.0516\n",
            "Epoch 8/50\n",
            "\u001b[1m140/140\u001b[0m \u001b[32m━━━━━━━━━━━━━━━━━━━━\u001b[0m\u001b[37m\u001b[0m \u001b[1m1s\u001b[0m 3ms/step - accuracy: 0.9657 - loss: 0.0775 - val_accuracy: 0.9803 - val_loss: 0.0484\n",
            "Epoch 9/50\n",
            "\u001b[1m140/140\u001b[0m \u001b[32m━━━━━━━━━━━━━━━━━━━━\u001b[0m\u001b[37m\u001b[0m \u001b[1m1s\u001b[0m 4ms/step - accuracy: 0.9753 - loss: 0.0592 - val_accuracy: 0.9821 - val_loss: 0.0495\n",
            "Epoch 10/50\n",
            "\u001b[1m140/140\u001b[0m \u001b[32m━━━━━━━━━━━━━━━━━━━━\u001b[0m\u001b[37m\u001b[0m \u001b[1m1s\u001b[0m 4ms/step - accuracy: 0.9768 - loss: 0.0546 - val_accuracy: 0.9812 - val_loss: 0.0440\n",
            "Epoch 11/50\n",
            "\u001b[1m140/140\u001b[0m \u001b[32m━━━━━━━━━━━━━━━━━━━━\u001b[0m\u001b[37m\u001b[0m \u001b[1m0s\u001b[0m 3ms/step - accuracy: 0.9793 - loss: 0.0479 - val_accuracy: 0.9848 - val_loss: 0.0415\n",
            "Epoch 12/50\n",
            "\u001b[1m140/140\u001b[0m \u001b[32m━━━━━━━━━━━━━━━━━━━━\u001b[0m\u001b[37m\u001b[0m \u001b[1m1s\u001b[0m 4ms/step - accuracy: 0.9800 - loss: 0.0431 - val_accuracy: 0.9830 - val_loss: 0.0404\n",
            "Epoch 13/50\n",
            "\u001b[1m140/140\u001b[0m \u001b[32m━━━━━━━━━━━━━━━━━━━━\u001b[0m\u001b[37m\u001b[0m \u001b[1m1s\u001b[0m 4ms/step - accuracy: 0.9786 - loss: 0.0491 - val_accuracy: 0.9883 - val_loss: 0.0337\n",
            "Epoch 14/50\n",
            "\u001b[1m140/140\u001b[0m \u001b[32m━━━━━━━━━━━━━━━━━━━━\u001b[0m\u001b[37m\u001b[0m \u001b[1m1s\u001b[0m 4ms/step - accuracy: 0.9764 - loss: 0.0535 - val_accuracy: 0.9848 - val_loss: 0.0333\n",
            "Epoch 15/50\n",
            "\u001b[1m140/140\u001b[0m \u001b[32m━━━━━━━━━━━━━━━━━━━━\u001b[0m\u001b[37m\u001b[0m \u001b[1m0s\u001b[0m 3ms/step - accuracy: 0.9793 - loss: 0.0519 - val_accuracy: 0.9776 - val_loss: 0.0433\n",
            "Epoch 16/50\n",
            "\u001b[1m140/140\u001b[0m \u001b[32m━━━━━━━━━━━━━━━━━━━━\u001b[0m\u001b[37m\u001b[0m \u001b[1m1s\u001b[0m 4ms/step - accuracy: 0.9863 - loss: 0.0399 - val_accuracy: 0.9892 - val_loss: 0.0310\n",
            "Epoch 17/50\n",
            "\u001b[1m140/140\u001b[0m \u001b[32m━━━━━━━━━━━━━━━━━━━━\u001b[0m\u001b[37m\u001b[0m \u001b[1m0s\u001b[0m 3ms/step - accuracy: 0.9865 - loss: 0.0355 - val_accuracy: 0.9919 - val_loss: 0.0270\n",
            "Epoch 18/50\n",
            "\u001b[1m140/140\u001b[0m \u001b[32m━━━━━━━━━━━━━━━━━━━━\u001b[0m\u001b[37m\u001b[0m \u001b[1m1s\u001b[0m 3ms/step - accuracy: 0.9820 - loss: 0.0412 - val_accuracy: 0.9883 - val_loss: 0.0282\n",
            "Epoch 19/50\n",
            "\u001b[1m140/140\u001b[0m \u001b[32m━━━━━━━━━━━━━━━━━━━━\u001b[0m\u001b[37m\u001b[0m \u001b[1m1s\u001b[0m 4ms/step - accuracy: 0.9856 - loss: 0.0321 - val_accuracy: 0.9892 - val_loss: 0.0287\n",
            "Epoch 20/50\n",
            "\u001b[1m140/140\u001b[0m \u001b[32m━━━━━━━━━━━━━━━━━━━━\u001b[0m\u001b[37m\u001b[0m \u001b[1m1s\u001b[0m 5ms/step - accuracy: 0.9871 - loss: 0.0334 - val_accuracy: 0.9928 - val_loss: 0.0214\n",
            "Epoch 21/50\n",
            "\u001b[1m140/140\u001b[0m \u001b[32m━━━━━━━━━━━━━━━━━━━━\u001b[0m\u001b[37m\u001b[0m \u001b[1m1s\u001b[0m 5ms/step - accuracy: 0.9840 - loss: 0.0389 - val_accuracy: 0.9812 - val_loss: 0.0403\n",
            "Epoch 22/50\n",
            "\u001b[1m140/140\u001b[0m \u001b[32m━━━━━━━━━━━━━━━━━━━━\u001b[0m\u001b[37m\u001b[0m \u001b[1m1s\u001b[0m 5ms/step - accuracy: 0.9859 - loss: 0.0314 - val_accuracy: 0.9883 - val_loss: 0.0270\n",
            "Epoch 23/50\n",
            "\u001b[1m140/140\u001b[0m \u001b[32m━━━━━━━━━━━━━━━━━━━━\u001b[0m\u001b[37m\u001b[0m \u001b[1m1s\u001b[0m 4ms/step - accuracy: 0.9861 - loss: 0.0308 - val_accuracy: 0.9883 - val_loss: 0.0250\n",
            "Epoch 24/50\n",
            "\u001b[1m140/140\u001b[0m \u001b[32m━━━━━━━━━━━━━━━━━━━━\u001b[0m\u001b[37m\u001b[0m \u001b[1m1s\u001b[0m 3ms/step - accuracy: 0.9882 - loss: 0.0255 - val_accuracy: 0.9901 - val_loss: 0.0234\n",
            "Epoch 25/50\n",
            "\u001b[1m140/140\u001b[0m \u001b[32m━━━━━━━━━━━━━━━━━━━━\u001b[0m\u001b[37m\u001b[0m \u001b[1m1s\u001b[0m 3ms/step - accuracy: 0.9887 - loss: 0.0270 - val_accuracy: 0.9812 - val_loss: 0.0387\n",
            "Epoch 26/50\n",
            "\u001b[1m140/140\u001b[0m \u001b[32m━━━━━━━━━━━━━━━━━━━━\u001b[0m\u001b[37m\u001b[0m \u001b[1m0s\u001b[0m 3ms/step - accuracy: 0.9908 - loss: 0.0255 - val_accuracy: 0.9812 - val_loss: 0.0344\n",
            "Epoch 27/50\n",
            "\u001b[1m140/140\u001b[0m \u001b[32m━━━━━━━━━━━━━━━━━━━━\u001b[0m\u001b[37m\u001b[0m \u001b[1m0s\u001b[0m 3ms/step - accuracy: 0.9911 - loss: 0.0273 - val_accuracy: 0.9901 - val_loss: 0.0217\n",
            "Epoch 28/50\n",
            "\u001b[1m140/140\u001b[0m \u001b[32m━━━━━━━━━━━━━━━━━━━━\u001b[0m\u001b[37m\u001b[0m \u001b[1m0s\u001b[0m 3ms/step - accuracy: 0.9878 - loss: 0.0290 - val_accuracy: 0.9892 - val_loss: 0.0219\n",
            "Epoch 29/50\n",
            "\u001b[1m140/140\u001b[0m \u001b[32m━━━━━━━━━━━━━━━━━━━━\u001b[0m\u001b[37m\u001b[0m \u001b[1m1s\u001b[0m 3ms/step - accuracy: 0.9920 - loss: 0.0211 - val_accuracy: 0.9812 - val_loss: 0.0441\n",
            "Epoch 30/50\n",
            "\u001b[1m140/140\u001b[0m \u001b[32m━━━━━━━━━━━━━━━━━━━━\u001b[0m\u001b[37m\u001b[0m \u001b[1m1s\u001b[0m 3ms/step - accuracy: 0.9943 - loss: 0.0197 - val_accuracy: 0.9865 - val_loss: 0.0286\n",
            "Epoch 31/50\n",
            "\u001b[1m140/140\u001b[0m \u001b[32m━━━━━━━━━━━━━━━━━━━━\u001b[0m\u001b[37m\u001b[0m \u001b[1m1s\u001b[0m 3ms/step - accuracy: 0.9918 - loss: 0.0248 - val_accuracy: 0.9910 - val_loss: 0.0197\n",
            "Epoch 32/50\n",
            "\u001b[1m140/140\u001b[0m \u001b[32m━━━━━━━━━━━━━━━━━━━━\u001b[0m\u001b[37m\u001b[0m \u001b[1m1s\u001b[0m 4ms/step - accuracy: 0.9938 - loss: 0.0177 - val_accuracy: 0.9937 - val_loss: 0.0198\n",
            "Epoch 33/50\n",
            "\u001b[1m140/140\u001b[0m \u001b[32m━━━━━━━━━━━━━━━━━━━━\u001b[0m\u001b[37m\u001b[0m \u001b[1m1s\u001b[0m 3ms/step - accuracy: 0.9916 - loss: 0.0243 - val_accuracy: 0.9865 - val_loss: 0.0269\n",
            "Epoch 34/50\n",
            "\u001b[1m140/140\u001b[0m \u001b[32m━━━━━━━━━━━━━━━━━━━━\u001b[0m\u001b[37m\u001b[0m \u001b[1m0s\u001b[0m 3ms/step - accuracy: 0.9912 - loss: 0.0217 - val_accuracy: 0.9910 - val_loss: 0.0190\n",
            "Epoch 35/50\n",
            "\u001b[1m140/140\u001b[0m \u001b[32m━━━━━━━━━━━━━━━━━━━━\u001b[0m\u001b[37m\u001b[0m \u001b[1m1s\u001b[0m 4ms/step - accuracy: 0.9905 - loss: 0.0263 - val_accuracy: 0.9919 - val_loss: 0.0214\n",
            "Epoch 36/50\n",
            "\u001b[1m140/140\u001b[0m \u001b[32m━━━━━━━━━━━━━━━━━━━━\u001b[0m\u001b[37m\u001b[0m \u001b[1m1s\u001b[0m 4ms/step - accuracy: 0.9926 - loss: 0.0193 - val_accuracy: 0.9910 - val_loss: 0.0168\n",
            "Epoch 37/50\n",
            "\u001b[1m140/140\u001b[0m \u001b[32m━━━━━━━━━━━━━━━━━━━━\u001b[0m\u001b[37m\u001b[0m \u001b[1m1s\u001b[0m 3ms/step - accuracy: 0.9945 - loss: 0.0152 - val_accuracy: 0.9937 - val_loss: 0.0173\n",
            "Epoch 38/50\n",
            "\u001b[1m140/140\u001b[0m \u001b[32m━━━━━━━━━━━━━━━━━━━━\u001b[0m\u001b[37m\u001b[0m \u001b[1m1s\u001b[0m 3ms/step - accuracy: 0.9922 - loss: 0.0224 - val_accuracy: 0.9946 - val_loss: 0.0153\n",
            "Epoch 39/50\n",
            "\u001b[1m140/140\u001b[0m \u001b[32m━━━━━━━━━━━━━━━━━━━━\u001b[0m\u001b[37m\u001b[0m \u001b[1m1s\u001b[0m 5ms/step - accuracy: 0.9875 - loss: 0.0246 - val_accuracy: 0.9901 - val_loss: 0.0224\n",
            "Epoch 40/50\n",
            "\u001b[1m140/140\u001b[0m \u001b[32m━━━━━━━━━━━━━━━━━━━━\u001b[0m\u001b[37m\u001b[0m \u001b[1m1s\u001b[0m 6ms/step - accuracy: 0.9951 - loss: 0.0143 - val_accuracy: 0.9910 - val_loss: 0.0209\n",
            "Epoch 41/50\n",
            "\u001b[1m140/140\u001b[0m \u001b[32m━━━━━━━━━━━━━━━━━━━━\u001b[0m\u001b[37m\u001b[0m \u001b[1m1s\u001b[0m 3ms/step - accuracy: 0.9946 - loss: 0.0154 - val_accuracy: 0.9928 - val_loss: 0.0179\n",
            "Epoch 42/50\n",
            "\u001b[1m140/140\u001b[0m \u001b[32m━━━━━━━━━━━━━━━━━━━━\u001b[0m\u001b[37m\u001b[0m \u001b[1m1s\u001b[0m 4ms/step - accuracy: 0.9957 - loss: 0.0143 - val_accuracy: 0.9910 - val_loss: 0.0183\n",
            "Epoch 43/50\n",
            "\u001b[1m140/140\u001b[0m \u001b[32m━━━━━━━━━━━━━━━━━━━━\u001b[0m\u001b[37m\u001b[0m \u001b[1m1s\u001b[0m 4ms/step - accuracy: 0.9916 - loss: 0.0194 - val_accuracy: 0.9937 - val_loss: 0.0160\n",
            "Epoch 44/50\n",
            "\u001b[1m140/140\u001b[0m \u001b[32m━━━━━━━━━━━━━━━━━━━━\u001b[0m\u001b[37m\u001b[0m \u001b[1m1s\u001b[0m 5ms/step - accuracy: 0.9964 - loss: 0.0110 - val_accuracy: 0.9937 - val_loss: 0.0154\n",
            "Epoch 45/50\n",
            "\u001b[1m140/140\u001b[0m \u001b[32m━━━━━━━━━━━━━━━━━━━━\u001b[0m\u001b[37m\u001b[0m \u001b[1m1s\u001b[0m 5ms/step - accuracy: 0.9959 - loss: 0.0120 - val_accuracy: 0.9839 - val_loss: 0.0343\n",
            "Epoch 46/50\n",
            "\u001b[1m140/140\u001b[0m \u001b[32m━━━━━━━━━━━━━━━━━━━━\u001b[0m\u001b[37m\u001b[0m \u001b[1m1s\u001b[0m 6ms/step - accuracy: 0.9945 - loss: 0.0136 - val_accuracy: 0.9883 - val_loss: 0.0229\n",
            "Epoch 47/50\n",
            "\u001b[1m140/140\u001b[0m \u001b[32m━━━━━━━━━━━━━━━━━━━━\u001b[0m\u001b[37m\u001b[0m \u001b[1m1s\u001b[0m 4ms/step - accuracy: 0.9973 - loss: 0.0093 - val_accuracy: 0.9919 - val_loss: 0.0182\n",
            "Epoch 48/50\n",
            "\u001b[1m140/140\u001b[0m \u001b[32m━━━━━━━━━━━━━━━━━━━━\u001b[0m\u001b[37m\u001b[0m \u001b[1m1s\u001b[0m 4ms/step - accuracy: 0.9917 - loss: 0.0220 - val_accuracy: 0.9857 - val_loss: 0.0239\n",
            "Epoch 49/50\n",
            "\u001b[1m140/140\u001b[0m \u001b[32m━━━━━━━━━━━━━━━━━━━━\u001b[0m\u001b[37m\u001b[0m \u001b[1m1s\u001b[0m 4ms/step - accuracy: 0.9953 - loss: 0.0104 - val_accuracy: 0.9910 - val_loss: 0.0154\n",
            "Epoch 50/50\n",
            "\u001b[1m140/140\u001b[0m \u001b[32m━━━━━━━━━━━━━━━━━━━━\u001b[0m\u001b[37m\u001b[0m \u001b[1m1s\u001b[0m 3ms/step - accuracy: 0.9948 - loss: 0.0122 - val_accuracy: 0.9928 - val_loss: 0.0180\n",
            "\u001b[1m44/44\u001b[0m \u001b[32m━━━━━━━━━━━━━━━━━━━━\u001b[0m\u001b[37m\u001b[0m \u001b[1m0s\u001b[0m 2ms/step - accuracy: 0.9866 - loss: 0.0380\n",
            "Pérdida (loss): 0.0371, Precisión (accuracy): 0.9857\n"
          ]
        }
      ]
    },
    {
      "cell_type": "code",
      "source": [
        "loss, mae = model.evaluate(X_test, y_test)\n",
        "print(f\"Pérdida (MSE): {loss:.4f}, MAE: {mae:.4f}\")\n"
      ],
      "metadata": {
        "colab": {
          "base_uri": "https://localhost:8080/"
        },
        "id": "6621GYg32dWJ",
        "outputId": "e7953739-e138-4ea2-b018-1ac39d67e3e1"
      },
      "execution_count": 25,
      "outputs": [
        {
          "output_type": "stream",
          "name": "stdout",
          "text": [
            "\u001b[1m44/44\u001b[0m \u001b[32m━━━━━━━━━━━━━━━━━━━━\u001b[0m\u001b[37m\u001b[0m \u001b[1m0s\u001b[0m 2ms/step - accuracy: 0.9848 - loss: 0.0378\n",
            "Pérdida (MSE): 0.0299, MAE: 0.9871\n"
          ]
        }
      ]
    },
    {
      "cell_type": "code",
      "source": [
        "import joblib\n",
        "\n",
        "# Guardar el modelo\n",
        "model.save(\"modelo_rnn_logro_matematica.h5\")\n",
        "\n",
        "# Guardar el scaler\n",
        "joblib.dump(scaler, \"scaler_modelo_rnn.pkl\")\n"
      ],
      "metadata": {
        "colab": {
          "base_uri": "https://localhost:8080/"
        },
        "id": "bBGSzl7T7zhs",
        "outputId": "2789c498-0d9e-4c08-d9a3-c986d1b88b8f"
      },
      "execution_count": 27,
      "outputs": [
        {
          "output_type": "stream",
          "name": "stderr",
          "text": [
            "WARNING:absl:You are saving your model as an HDF5 file via `model.save()` or `keras.saving.save_model(model)`. This file format is considered legacy. We recommend using instead the native Keras format, e.g. `model.save('my_model.keras')` or `keras.saving.save_model(model, 'my_model.keras')`. \n"
          ]
        },
        {
          "output_type": "execute_result",
          "data": {
            "text/plain": [
              "['scaler_modelo_rnn.pkl']"
            ]
          },
          "metadata": {},
          "execution_count": 27
        }
      ]
    },
    {
      "cell_type": "code",
      "source": [
        "from sklearn.metrics import classification_report, confusion_matrix\n",
        "\n",
        "y_pred = model.predict(X_test)\n",
        "y_pred_class = (y_pred > 0.5).astype(int)\n",
        "\n",
        "print(confusion_matrix(y_test, y_pred_class))\n",
        "print(classification_report(y_test, y_pred_class))\n"
      ],
      "metadata": {
        "colab": {
          "base_uri": "https://localhost:8080/"
        },
        "id": "jSZeDDVQ799Y",
        "outputId": "5e51152d-72ba-47ec-9d3c-084b6110bf21"
      },
      "execution_count": 28,
      "outputs": [
        {
          "output_type": "stream",
          "name": "stdout",
          "text": [
            "\u001b[1m44/44\u001b[0m \u001b[32m━━━━━━━━━━━━━━━━━━━━\u001b[0m\u001b[37m\u001b[0m \u001b[1m1s\u001b[0m 13ms/step\n",
            "[[1218    9]\n",
            " [  11  156]]\n",
            "              precision    recall  f1-score   support\n",
            "\n",
            "           0       0.99      0.99      0.99      1227\n",
            "           1       0.95      0.93      0.94       167\n",
            "\n",
            "    accuracy                           0.99      1394\n",
            "   macro avg       0.97      0.96      0.97      1394\n",
            "weighted avg       0.99      0.99      0.99      1394\n",
            "\n"
          ]
        }
      ]
    }
  ]
}